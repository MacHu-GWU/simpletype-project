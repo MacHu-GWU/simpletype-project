{
 "cells": [
  {
   "cell_type": "markdown",
   "id": "6a17ca80-5ab1-422d-9a0e-4faa1a22f4e7",
   "metadata": {},
   "source": [
    "# Quick Start"
   ]
  },
  {
   "cell_type": "code",
   "execution_count": 1,
   "id": "4e42e12c-d4a4-4fae-a51a-3966282d694c",
   "metadata": {
    "ExecuteTime": {
     "end_time": "2024-09-02T03:21:51.959372Z",
     "start_time": "2024-09-02T03:21:51.955014Z"
    }
   },
   "outputs": [],
   "source": [
    "from simpletype.api import (\n",
    "    Integer,\n",
    "    TinyInteger,\n",
    "    SmallInteger,\n",
    "    BigInteger,\n",
    "    Float,\n",
    "    Double,\n",
    "    Decimal,\n",
    "    String,\n",
    "    Binary,\n",
    "    Bool,\n",
    "    Null,\n",
    "    Datetime,\n",
    "    Set,\n",
    "    List,\n",
    "    Struct,\n",
    "    json_type_to_simple_type,\n",
    ")\n",
    "from rich import print as rprint"
   ]
  },
  {
   "cell_type": "code",
   "execution_count": 2,
   "id": "360e2fa8510977e7",
   "metadata": {
    "ExecuteTime": {
     "end_time": "2024-09-02T03:22:17.550341Z",
     "start_time": "2024-09-02T03:22:17.546728Z"
    },
    "collapsed": false,
    "jupyter": {
     "outputs_hidden": false
    }
   },
   "outputs": [
    {
     "data": {
      "text/html": [
       "<pre style=\"white-space:pre;overflow-x:auto;line-height:normal;font-family:Menlo,'DejaVu Sans Mono',consolas,'Courier New',monospace\"><span style=\"font-weight: bold\">{</span>\n",
       "    <span style=\"color: #008000; text-decoration-color: #008000\">'a_int'</span>: <span style=\"color: #800080; text-decoration-color: #800080; font-weight: bold\">Integer</span><span style=\"font-weight: bold\">(</span><span style=\"color: #808000; text-decoration-color: #808000\">default_for_null</span>=<span style=\"color: #800080; text-decoration-color: #800080; font-weight: bold\">Sentinel</span><span style=\"font-weight: bold\">(</span><span style=\"color: #008000; text-decoration-color: #008000\">'NOTHING'</span><span style=\"font-weight: bold\">)</span>, <span style=\"color: #808000; text-decoration-color: #808000\">required</span>=<span style=\"color: #ff0000; text-decoration-color: #ff0000; font-style: italic\">False</span><span style=\"font-weight: bold\">)</span>,\n",
       "    <span style=\"color: #008000; text-decoration-color: #008000\">'a_float'</span>: <span style=\"color: #800080; text-decoration-color: #800080; font-weight: bold\">Float</span><span style=\"font-weight: bold\">(</span><span style=\"color: #808000; text-decoration-color: #808000\">default_for_null</span>=<span style=\"color: #800080; text-decoration-color: #800080; font-weight: bold\">Sentinel</span><span style=\"font-weight: bold\">(</span><span style=\"color: #008000; text-decoration-color: #008000\">'NOTHING'</span><span style=\"font-weight: bold\">)</span>, <span style=\"color: #808000; text-decoration-color: #808000\">precision</span>=<span style=\"color: #800080; text-decoration-color: #800080; font-weight: bold\">Sentinel</span><span style=\"font-weight: bold\">(</span><span style=\"color: #008000; text-decoration-color: #008000\">'NOTHING'</span><span style=\"font-weight: bold\">)</span>, <span style=\"color: #808000; text-decoration-color: #808000\">required</span>=<span style=\"color: #ff0000; text-decoration-color: #ff0000; font-style: italic\">False</span><span style=\"font-weight: bold\">)</span>,\n",
       "    <span style=\"color: #008000; text-decoration-color: #008000\">'a_str'</span>: <span style=\"color: #800080; text-decoration-color: #800080; font-weight: bold\">String</span><span style=\"font-weight: bold\">(</span><span style=\"color: #808000; text-decoration-color: #808000\">default_for_null</span>=<span style=\"color: #008000; text-decoration-color: #008000\">''</span>, <span style=\"color: #808000; text-decoration-color: #808000\">required</span>=<span style=\"color: #ff0000; text-decoration-color: #ff0000; font-style: italic\">False</span><span style=\"font-weight: bold\">)</span>,\n",
       "    <span style=\"color: #008000; text-decoration-color: #008000\">'a_binary'</span>: <span style=\"color: #800080; text-decoration-color: #800080; font-weight: bold\">Binary</span><span style=\"font-weight: bold\">(</span><span style=\"color: #808000; text-decoration-color: #808000\">default_for_null</span>=<span style=\"color: #008000; text-decoration-color: #008000\">b''</span>, <span style=\"color: #808000; text-decoration-color: #808000\">required</span>=<span style=\"color: #ff0000; text-decoration-color: #ff0000; font-style: italic\">False</span><span style=\"font-weight: bold\">)</span>,\n",
       "    <span style=\"color: #008000; text-decoration-color: #008000\">'a_bool'</span>: <span style=\"color: #800080; text-decoration-color: #800080; font-weight: bold\">Bool</span><span style=\"font-weight: bold\">(</span><span style=\"color: #808000; text-decoration-color: #808000\">default_for_null</span>=<span style=\"color: #800080; text-decoration-color: #800080; font-weight: bold\">Sentinel</span><span style=\"font-weight: bold\">(</span><span style=\"color: #008000; text-decoration-color: #008000\">'NOTHING'</span><span style=\"font-weight: bold\">)</span>, <span style=\"color: #808000; text-decoration-color: #808000\">required</span>=<span style=\"color: #ff0000; text-decoration-color: #ff0000; font-style: italic\">False</span><span style=\"font-weight: bold\">)</span>,\n",
       "    <span style=\"color: #008000; text-decoration-color: #008000\">'a_null'</span>: <span style=\"color: #800080; text-decoration-color: #800080; font-weight: bold\">Null</span><span style=\"font-weight: bold\">(</span><span style=\"color: #808000; text-decoration-color: #808000\">default_for_null</span>=<span style=\"color: #800080; text-decoration-color: #800080; font-style: italic\">None</span>, <span style=\"color: #808000; text-decoration-color: #808000\">required</span>=<span style=\"color: #ff0000; text-decoration-color: #ff0000; font-style: italic\">False</span><span style=\"font-weight: bold\">)</span>,\n",
       "    <span style=\"color: #008000; text-decoration-color: #008000\">'a_int_set'</span>: <span style=\"color: #800080; text-decoration-color: #800080; font-weight: bold\">Set</span><span style=\"font-weight: bold\">(</span>\n",
       "        <span style=\"color: #808000; text-decoration-color: #808000\">itype</span>=<span style=\"color: #800080; text-decoration-color: #800080; font-weight: bold\">Integer</span><span style=\"font-weight: bold\">(</span><span style=\"color: #808000; text-decoration-color: #808000\">default_for_null</span>=<span style=\"color: #800080; text-decoration-color: #800080; font-weight: bold\">Sentinel</span><span style=\"font-weight: bold\">(</span><span style=\"color: #008000; text-decoration-color: #008000\">'NOTHING'</span><span style=\"font-weight: bold\">)</span>, <span style=\"color: #808000; text-decoration-color: #808000\">required</span>=<span style=\"color: #ff0000; text-decoration-color: #ff0000; font-style: italic\">False</span><span style=\"font-weight: bold\">)</span>,\n",
       "        <span style=\"color: #808000; text-decoration-color: #808000\">default_for_null</span>=<span style=\"font-weight: bold\">[]</span>,\n",
       "        <span style=\"color: #808000; text-decoration-color: #808000\">required</span>=<span style=\"color: #ff0000; text-decoration-color: #ff0000; font-style: italic\">False</span>\n",
       "    <span style=\"font-weight: bold\">)</span>,\n",
       "    <span style=\"color: #008000; text-decoration-color: #008000\">'a_str_list'</span>: <span style=\"color: #800080; text-decoration-color: #800080; font-weight: bold\">List</span><span style=\"font-weight: bold\">(</span><span style=\"color: #808000; text-decoration-color: #808000\">itype</span>=<span style=\"color: #800080; text-decoration-color: #800080; font-weight: bold\">String</span><span style=\"font-weight: bold\">(</span><span style=\"color: #808000; text-decoration-color: #808000\">default_for_null</span>=<span style=\"color: #008000; text-decoration-color: #008000\">''</span>, <span style=\"color: #808000; text-decoration-color: #808000\">required</span>=<span style=\"color: #ff0000; text-decoration-color: #ff0000; font-style: italic\">False</span><span style=\"font-weight: bold\">)</span>, <span style=\"color: #808000; text-decoration-color: #808000\">default_for_null</span>=<span style=\"font-weight: bold\">[]</span>, <span style=\"color: #808000; text-decoration-color: #808000\">required</span>=<span style=\"color: #ff0000; text-decoration-color: #ff0000; font-style: italic\">False</span><span style=\"font-weight: bold\">)</span>,\n",
       "    <span style=\"color: #008000; text-decoration-color: #008000\">'a_struct_list'</span>: <span style=\"color: #800080; text-decoration-color: #800080; font-weight: bold\">List</span><span style=\"font-weight: bold\">(</span>\n",
       "        <span style=\"color: #808000; text-decoration-color: #808000\">itype</span>=<span style=\"color: #800080; text-decoration-color: #800080; font-weight: bold\">Struct</span><span style=\"font-weight: bold\">(</span>\n",
       "            <span style=\"color: #808000; text-decoration-color: #808000\">fields</span>=<span style=\"font-weight: bold\">{</span>\n",
       "                <span style=\"color: #008000; text-decoration-color: #008000\">'a_int'</span>: <span style=\"color: #800080; text-decoration-color: #800080; font-weight: bold\">Integer</span><span style=\"font-weight: bold\">(</span><span style=\"color: #808000; text-decoration-color: #808000\">default_for_null</span>=<span style=\"color: #800080; text-decoration-color: #800080; font-weight: bold\">Sentinel</span><span style=\"font-weight: bold\">(</span><span style=\"color: #008000; text-decoration-color: #008000\">'NOTHING'</span><span style=\"font-weight: bold\">)</span>, <span style=\"color: #808000; text-decoration-color: #808000\">required</span>=<span style=\"color: #ff0000; text-decoration-color: #ff0000; font-style: italic\">False</span><span style=\"font-weight: bold\">)</span>,\n",
       "                <span style=\"color: #008000; text-decoration-color: #008000\">'a_str'</span>: <span style=\"color: #800080; text-decoration-color: #800080; font-weight: bold\">String</span><span style=\"font-weight: bold\">(</span><span style=\"color: #808000; text-decoration-color: #808000\">default_for_null</span>=<span style=\"color: #008000; text-decoration-color: #008000\">''</span>, <span style=\"color: #808000; text-decoration-color: #808000\">required</span>=<span style=\"color: #ff0000; text-decoration-color: #ff0000; font-style: italic\">False</span><span style=\"font-weight: bold\">)</span>\n",
       "            <span style=\"font-weight: bold\">}</span>,\n",
       "            <span style=\"color: #808000; text-decoration-color: #808000\">required</span>=<span style=\"color: #ff0000; text-decoration-color: #ff0000; font-style: italic\">False</span>\n",
       "        <span style=\"font-weight: bold\">)</span>,\n",
       "        <span style=\"color: #808000; text-decoration-color: #808000\">default_for_null</span>=<span style=\"font-weight: bold\">[]</span>,\n",
       "        <span style=\"color: #808000; text-decoration-color: #808000\">required</span>=<span style=\"color: #ff0000; text-decoration-color: #ff0000; font-style: italic\">False</span>\n",
       "    <span style=\"font-weight: bold\">)</span>,\n",
       "    <span style=\"color: #008000; text-decoration-color: #008000\">'a_struct'</span>: <span style=\"color: #800080; text-decoration-color: #800080; font-weight: bold\">Struct</span><span style=\"font-weight: bold\">(</span>\n",
       "        <span style=\"color: #808000; text-decoration-color: #808000\">fields</span>=<span style=\"font-weight: bold\">{</span>\n",
       "            <span style=\"color: #008000; text-decoration-color: #008000\">'a_int'</span>: <span style=\"color: #800080; text-decoration-color: #800080; font-weight: bold\">Integer</span><span style=\"font-weight: bold\">(</span><span style=\"color: #808000; text-decoration-color: #808000\">default_for_null</span>=<span style=\"color: #800080; text-decoration-color: #800080; font-weight: bold\">Sentinel</span><span style=\"font-weight: bold\">(</span><span style=\"color: #008000; text-decoration-color: #008000\">'NOTHING'</span><span style=\"font-weight: bold\">)</span>, <span style=\"color: #808000; text-decoration-color: #808000\">required</span>=<span style=\"color: #ff0000; text-decoration-color: #ff0000; font-style: italic\">False</span><span style=\"font-weight: bold\">)</span>,\n",
       "            <span style=\"color: #008000; text-decoration-color: #008000\">'a_str'</span>: <span style=\"color: #800080; text-decoration-color: #800080; font-weight: bold\">String</span><span style=\"font-weight: bold\">(</span><span style=\"color: #808000; text-decoration-color: #808000\">default_for_null</span>=<span style=\"color: #008000; text-decoration-color: #008000\">''</span>, <span style=\"color: #808000; text-decoration-color: #808000\">required</span>=<span style=\"color: #ff0000; text-decoration-color: #ff0000; font-style: italic\">False</span><span style=\"font-weight: bold\">)</span>\n",
       "        <span style=\"font-weight: bold\">}</span>,\n",
       "        <span style=\"color: #808000; text-decoration-color: #808000\">required</span>=<span style=\"color: #ff0000; text-decoration-color: #ff0000; font-style: italic\">False</span>\n",
       "    <span style=\"font-weight: bold\">)</span>\n",
       "<span style=\"font-weight: bold\">}</span>\n",
       "</pre>\n"
      ],
      "text/plain": [
       "\u001b[1m{\u001b[0m\n",
       "    \u001b[32m'a_int'\u001b[0m: \u001b[1;35mInteger\u001b[0m\u001b[1m(\u001b[0m\u001b[33mdefault_for_null\u001b[0m=\u001b[1;35mSentinel\u001b[0m\u001b[1m(\u001b[0m\u001b[32m'NOTHING'\u001b[0m\u001b[1m)\u001b[0m, \u001b[33mrequired\u001b[0m=\u001b[3;91mFalse\u001b[0m\u001b[1m)\u001b[0m,\n",
       "    \u001b[32m'a_float'\u001b[0m: \u001b[1;35mFloat\u001b[0m\u001b[1m(\u001b[0m\u001b[33mdefault_for_null\u001b[0m=\u001b[1;35mSentinel\u001b[0m\u001b[1m(\u001b[0m\u001b[32m'NOTHING'\u001b[0m\u001b[1m)\u001b[0m, \u001b[33mprecision\u001b[0m=\u001b[1;35mSentinel\u001b[0m\u001b[1m(\u001b[0m\u001b[32m'NOTHING'\u001b[0m\u001b[1m)\u001b[0m, \u001b[33mrequired\u001b[0m=\u001b[3;91mFalse\u001b[0m\u001b[1m)\u001b[0m,\n",
       "    \u001b[32m'a_str'\u001b[0m: \u001b[1;35mString\u001b[0m\u001b[1m(\u001b[0m\u001b[33mdefault_for_null\u001b[0m=\u001b[32m''\u001b[0m, \u001b[33mrequired\u001b[0m=\u001b[3;91mFalse\u001b[0m\u001b[1m)\u001b[0m,\n",
       "    \u001b[32m'a_binary'\u001b[0m: \u001b[1;35mBinary\u001b[0m\u001b[1m(\u001b[0m\u001b[33mdefault_for_null\u001b[0m=\u001b[32mb\u001b[0m\u001b[32m''\u001b[0m, \u001b[33mrequired\u001b[0m=\u001b[3;91mFalse\u001b[0m\u001b[1m)\u001b[0m,\n",
       "    \u001b[32m'a_bool'\u001b[0m: \u001b[1;35mBool\u001b[0m\u001b[1m(\u001b[0m\u001b[33mdefault_for_null\u001b[0m=\u001b[1;35mSentinel\u001b[0m\u001b[1m(\u001b[0m\u001b[32m'NOTHING'\u001b[0m\u001b[1m)\u001b[0m, \u001b[33mrequired\u001b[0m=\u001b[3;91mFalse\u001b[0m\u001b[1m)\u001b[0m,\n",
       "    \u001b[32m'a_null'\u001b[0m: \u001b[1;35mNull\u001b[0m\u001b[1m(\u001b[0m\u001b[33mdefault_for_null\u001b[0m=\u001b[3;35mNone\u001b[0m, \u001b[33mrequired\u001b[0m=\u001b[3;91mFalse\u001b[0m\u001b[1m)\u001b[0m,\n",
       "    \u001b[32m'a_int_set'\u001b[0m: \u001b[1;35mSet\u001b[0m\u001b[1m(\u001b[0m\n",
       "        \u001b[33mitype\u001b[0m=\u001b[1;35mInteger\u001b[0m\u001b[1m(\u001b[0m\u001b[33mdefault_for_null\u001b[0m=\u001b[1;35mSentinel\u001b[0m\u001b[1m(\u001b[0m\u001b[32m'NOTHING'\u001b[0m\u001b[1m)\u001b[0m, \u001b[33mrequired\u001b[0m=\u001b[3;91mFalse\u001b[0m\u001b[1m)\u001b[0m,\n",
       "        \u001b[33mdefault_for_null\u001b[0m=\u001b[1m[\u001b[0m\u001b[1m]\u001b[0m,\n",
       "        \u001b[33mrequired\u001b[0m=\u001b[3;91mFalse\u001b[0m\n",
       "    \u001b[1m)\u001b[0m,\n",
       "    \u001b[32m'a_str_list'\u001b[0m: \u001b[1;35mList\u001b[0m\u001b[1m(\u001b[0m\u001b[33mitype\u001b[0m=\u001b[1;35mString\u001b[0m\u001b[1m(\u001b[0m\u001b[33mdefault_for_null\u001b[0m=\u001b[32m''\u001b[0m, \u001b[33mrequired\u001b[0m=\u001b[3;91mFalse\u001b[0m\u001b[1m)\u001b[0m, \u001b[33mdefault_for_null\u001b[0m=\u001b[1m[\u001b[0m\u001b[1m]\u001b[0m, \u001b[33mrequired\u001b[0m=\u001b[3;91mFalse\u001b[0m\u001b[1m)\u001b[0m,\n",
       "    \u001b[32m'a_struct_list'\u001b[0m: \u001b[1;35mList\u001b[0m\u001b[1m(\u001b[0m\n",
       "        \u001b[33mitype\u001b[0m=\u001b[1;35mStruct\u001b[0m\u001b[1m(\u001b[0m\n",
       "            \u001b[33mfields\u001b[0m=\u001b[1m{\u001b[0m\n",
       "                \u001b[32m'a_int'\u001b[0m: \u001b[1;35mInteger\u001b[0m\u001b[1m(\u001b[0m\u001b[33mdefault_for_null\u001b[0m=\u001b[1;35mSentinel\u001b[0m\u001b[1m(\u001b[0m\u001b[32m'NOTHING'\u001b[0m\u001b[1m)\u001b[0m, \u001b[33mrequired\u001b[0m=\u001b[3;91mFalse\u001b[0m\u001b[1m)\u001b[0m,\n",
       "                \u001b[32m'a_str'\u001b[0m: \u001b[1;35mString\u001b[0m\u001b[1m(\u001b[0m\u001b[33mdefault_for_null\u001b[0m=\u001b[32m''\u001b[0m, \u001b[33mrequired\u001b[0m=\u001b[3;91mFalse\u001b[0m\u001b[1m)\u001b[0m\n",
       "            \u001b[1m}\u001b[0m,\n",
       "            \u001b[33mrequired\u001b[0m=\u001b[3;91mFalse\u001b[0m\n",
       "        \u001b[1m)\u001b[0m,\n",
       "        \u001b[33mdefault_for_null\u001b[0m=\u001b[1m[\u001b[0m\u001b[1m]\u001b[0m,\n",
       "        \u001b[33mrequired\u001b[0m=\u001b[3;91mFalse\u001b[0m\n",
       "    \u001b[1m)\u001b[0m,\n",
       "    \u001b[32m'a_struct'\u001b[0m: \u001b[1;35mStruct\u001b[0m\u001b[1m(\u001b[0m\n",
       "        \u001b[33mfields\u001b[0m=\u001b[1m{\u001b[0m\n",
       "            \u001b[32m'a_int'\u001b[0m: \u001b[1;35mInteger\u001b[0m\u001b[1m(\u001b[0m\u001b[33mdefault_for_null\u001b[0m=\u001b[1;35mSentinel\u001b[0m\u001b[1m(\u001b[0m\u001b[32m'NOTHING'\u001b[0m\u001b[1m)\u001b[0m, \u001b[33mrequired\u001b[0m=\u001b[3;91mFalse\u001b[0m\u001b[1m)\u001b[0m,\n",
       "            \u001b[32m'a_str'\u001b[0m: \u001b[1;35mString\u001b[0m\u001b[1m(\u001b[0m\u001b[33mdefault_for_null\u001b[0m=\u001b[32m''\u001b[0m, \u001b[33mrequired\u001b[0m=\u001b[3;91mFalse\u001b[0m\u001b[1m)\u001b[0m\n",
       "        \u001b[1m}\u001b[0m,\n",
       "        \u001b[33mrequired\u001b[0m=\u001b[3;91mFalse\u001b[0m\n",
       "    \u001b[1m)\u001b[0m\n",
       "\u001b[1m}\u001b[0m\n"
      ]
     },
     "metadata": {},
     "output_type": "display_data"
    }
   ],
   "source": [
    "simple_schema = {\n",
    "    \"a_int\": Integer(),\n",
    "    \"a_float\": Float(),\n",
    "    \"a_str\": String(),\n",
    "    \"a_binary\": Binary(),\n",
    "    \"a_bool\": Bool(),\n",
    "    \"a_null\": Null(),\n",
    "    \"a_int_set\": Set(itype=Integer()),\n",
    "    \"a_str_list\": List(itype=String()),\n",
    "    \"a_struct_list\": List(\n",
    "        itype=Struct(\n",
    "            fields={\n",
    "                \"a_int\": Integer(),\n",
    "                \"a_str\": String(),\n",
    "            }\n",
    "        )\n",
    "    ),\n",
    "    \"a_struct\": Struct(\n",
    "        fields={\n",
    "            \"a_int\": Integer(),\n",
    "            \"a_str\": String(),\n",
    "        }\n",
    "    ),\n",
    "}\n",
    "rprint(simple_schema)"
   ]
  },
  {
   "cell_type": "code",
   "execution_count": 3,
   "id": "2cf7b26b0a9d0d8a",
   "metadata": {
    "ExecuteTime": {
     "end_time": "2024-09-02T03:22:21.762506Z",
     "start_time": "2024-09-02T03:22:21.758413Z"
    },
    "collapsed": false,
    "jupyter": {
     "outputs_hidden": false
    }
   },
   "outputs": [
    {
     "data": {
      "text/html": [
       "<pre style=\"white-space:pre;overflow-x:auto;line-height:normal;font-family:Menlo,'DejaVu Sans Mono',consolas,'Courier New',monospace\"><span style=\"font-weight: bold\">{</span>\n",
       "    <span style=\"color: #008000; text-decoration-color: #008000\">'a_int'</span>: <span style=\"font-weight: bold\">{</span><span style=\"color: #008000; text-decoration-color: #008000\">'type'</span>: <span style=\"color: #008000; text-decoration-color: #008000\">'int'</span>, <span style=\"color: #008000; text-decoration-color: #008000\">'required'</span>: <span style=\"color: #ff0000; text-decoration-color: #ff0000; font-style: italic\">False</span><span style=\"font-weight: bold\">}</span>,\n",
       "    <span style=\"color: #008000; text-decoration-color: #008000\">'a_float'</span>: <span style=\"font-weight: bold\">{</span><span style=\"color: #008000; text-decoration-color: #008000\">'type'</span>: <span style=\"color: #008000; text-decoration-color: #008000\">'float'</span>, <span style=\"color: #008000; text-decoration-color: #008000\">'required'</span>: <span style=\"color: #ff0000; text-decoration-color: #ff0000; font-style: italic\">False</span><span style=\"font-weight: bold\">}</span>,\n",
       "    <span style=\"color: #008000; text-decoration-color: #008000\">'a_str'</span>: <span style=\"font-weight: bold\">{</span><span style=\"color: #008000; text-decoration-color: #008000\">'type'</span>: <span style=\"color: #008000; text-decoration-color: #008000\">'str'</span>, <span style=\"color: #008000; text-decoration-color: #008000\">'default_for_null'</span>: <span style=\"color: #008000; text-decoration-color: #008000\">''</span>, <span style=\"color: #008000; text-decoration-color: #008000\">'required'</span>: <span style=\"color: #ff0000; text-decoration-color: #ff0000; font-style: italic\">False</span><span style=\"font-weight: bold\">}</span>,\n",
       "    <span style=\"color: #008000; text-decoration-color: #008000\">'a_binary'</span>: <span style=\"font-weight: bold\">{</span><span style=\"color: #008000; text-decoration-color: #008000\">'type'</span>: <span style=\"color: #008000; text-decoration-color: #008000\">'bin'</span>, <span style=\"color: #008000; text-decoration-color: #008000\">'default_for_null'</span>: <span style=\"color: #008000; text-decoration-color: #008000\">b''</span>, <span style=\"color: #008000; text-decoration-color: #008000\">'required'</span>: <span style=\"color: #ff0000; text-decoration-color: #ff0000; font-style: italic\">False</span><span style=\"font-weight: bold\">}</span>,\n",
       "    <span style=\"color: #008000; text-decoration-color: #008000\">'a_bool'</span>: <span style=\"font-weight: bold\">{</span><span style=\"color: #008000; text-decoration-color: #008000\">'type'</span>: <span style=\"color: #008000; text-decoration-color: #008000\">'bool'</span>, <span style=\"color: #008000; text-decoration-color: #008000\">'required'</span>: <span style=\"color: #ff0000; text-decoration-color: #ff0000; font-style: italic\">False</span><span style=\"font-weight: bold\">}</span>,\n",
       "    <span style=\"color: #008000; text-decoration-color: #008000\">'a_null'</span>: <span style=\"font-weight: bold\">{</span><span style=\"color: #008000; text-decoration-color: #008000\">'type'</span>: <span style=\"color: #008000; text-decoration-color: #008000\">'null'</span>, <span style=\"color: #008000; text-decoration-color: #008000\">'default_for_null'</span>: <span style=\"color: #800080; text-decoration-color: #800080; font-style: italic\">None</span>, <span style=\"color: #008000; text-decoration-color: #008000\">'required'</span>: <span style=\"color: #ff0000; text-decoration-color: #ff0000; font-style: italic\">False</span><span style=\"font-weight: bold\">}</span>,\n",
       "    <span style=\"color: #008000; text-decoration-color: #008000\">'a_int_set'</span>: <span style=\"font-weight: bold\">{</span>\n",
       "        <span style=\"color: #008000; text-decoration-color: #008000\">'type'</span>: <span style=\"color: #008000; text-decoration-color: #008000\">'set'</span>,\n",
       "        <span style=\"color: #008000; text-decoration-color: #008000\">'itype'</span>: <span style=\"font-weight: bold\">{</span><span style=\"color: #008000; text-decoration-color: #008000\">'type'</span>: <span style=\"color: #008000; text-decoration-color: #008000\">'int'</span>, <span style=\"color: #008000; text-decoration-color: #008000\">'required'</span>: <span style=\"color: #ff0000; text-decoration-color: #ff0000; font-style: italic\">False</span><span style=\"font-weight: bold\">}</span>,\n",
       "        <span style=\"color: #008000; text-decoration-color: #008000\">'default_for_null'</span>: <span style=\"font-weight: bold\">[]</span>,\n",
       "        <span style=\"color: #008000; text-decoration-color: #008000\">'required'</span>: <span style=\"color: #ff0000; text-decoration-color: #ff0000; font-style: italic\">False</span>\n",
       "    <span style=\"font-weight: bold\">}</span>,\n",
       "    <span style=\"color: #008000; text-decoration-color: #008000\">'a_str_list'</span>: <span style=\"font-weight: bold\">{</span>\n",
       "        <span style=\"color: #008000; text-decoration-color: #008000\">'type'</span>: <span style=\"color: #008000; text-decoration-color: #008000\">'list'</span>,\n",
       "        <span style=\"color: #008000; text-decoration-color: #008000\">'itype'</span>: <span style=\"font-weight: bold\">{</span><span style=\"color: #008000; text-decoration-color: #008000\">'type'</span>: <span style=\"color: #008000; text-decoration-color: #008000\">'str'</span>, <span style=\"color: #008000; text-decoration-color: #008000\">'default_for_null'</span>: <span style=\"color: #008000; text-decoration-color: #008000\">''</span>, <span style=\"color: #008000; text-decoration-color: #008000\">'required'</span>: <span style=\"color: #ff0000; text-decoration-color: #ff0000; font-style: italic\">False</span><span style=\"font-weight: bold\">}</span>,\n",
       "        <span style=\"color: #008000; text-decoration-color: #008000\">'default_for_null'</span>: <span style=\"font-weight: bold\">[]</span>,\n",
       "        <span style=\"color: #008000; text-decoration-color: #008000\">'required'</span>: <span style=\"color: #ff0000; text-decoration-color: #ff0000; font-style: italic\">False</span>\n",
       "    <span style=\"font-weight: bold\">}</span>,\n",
       "    <span style=\"color: #008000; text-decoration-color: #008000\">'a_struct_list'</span>: <span style=\"font-weight: bold\">{</span>\n",
       "        <span style=\"color: #008000; text-decoration-color: #008000\">'type'</span>: <span style=\"color: #008000; text-decoration-color: #008000\">'list'</span>,\n",
       "        <span style=\"color: #008000; text-decoration-color: #008000\">'itype'</span>: <span style=\"font-weight: bold\">{</span>\n",
       "            <span style=\"color: #008000; text-decoration-color: #008000\">'type'</span>: <span style=\"color: #008000; text-decoration-color: #008000\">'struct'</span>,\n",
       "            <span style=\"color: #008000; text-decoration-color: #008000\">'fields'</span>: <span style=\"font-weight: bold\">{</span>\n",
       "                <span style=\"color: #008000; text-decoration-color: #008000\">'a_int'</span>: <span style=\"font-weight: bold\">{</span><span style=\"color: #008000; text-decoration-color: #008000\">'type'</span>: <span style=\"color: #008000; text-decoration-color: #008000\">'int'</span>, <span style=\"color: #008000; text-decoration-color: #008000\">'required'</span>: <span style=\"color: #ff0000; text-decoration-color: #ff0000; font-style: italic\">False</span><span style=\"font-weight: bold\">}</span>,\n",
       "                <span style=\"color: #008000; text-decoration-color: #008000\">'a_str'</span>: <span style=\"font-weight: bold\">{</span><span style=\"color: #008000; text-decoration-color: #008000\">'type'</span>: <span style=\"color: #008000; text-decoration-color: #008000\">'str'</span>, <span style=\"color: #008000; text-decoration-color: #008000\">'default_for_null'</span>: <span style=\"color: #008000; text-decoration-color: #008000\">''</span>, <span style=\"color: #008000; text-decoration-color: #008000\">'required'</span>: <span style=\"color: #ff0000; text-decoration-color: #ff0000; font-style: italic\">False</span><span style=\"font-weight: bold\">}</span>\n",
       "            <span style=\"font-weight: bold\">}</span>,\n",
       "            <span style=\"color: #008000; text-decoration-color: #008000\">'required'</span>: <span style=\"color: #ff0000; text-decoration-color: #ff0000; font-style: italic\">False</span>\n",
       "        <span style=\"font-weight: bold\">}</span>,\n",
       "        <span style=\"color: #008000; text-decoration-color: #008000\">'default_for_null'</span>: <span style=\"font-weight: bold\">[]</span>,\n",
       "        <span style=\"color: #008000; text-decoration-color: #008000\">'required'</span>: <span style=\"color: #ff0000; text-decoration-color: #ff0000; font-style: italic\">False</span>\n",
       "    <span style=\"font-weight: bold\">}</span>,\n",
       "    <span style=\"color: #008000; text-decoration-color: #008000\">'a_struct'</span>: <span style=\"font-weight: bold\">{</span>\n",
       "        <span style=\"color: #008000; text-decoration-color: #008000\">'type'</span>: <span style=\"color: #008000; text-decoration-color: #008000\">'struct'</span>,\n",
       "        <span style=\"color: #008000; text-decoration-color: #008000\">'fields'</span>: <span style=\"font-weight: bold\">{</span>\n",
       "            <span style=\"color: #008000; text-decoration-color: #008000\">'a_int'</span>: <span style=\"font-weight: bold\">{</span><span style=\"color: #008000; text-decoration-color: #008000\">'type'</span>: <span style=\"color: #008000; text-decoration-color: #008000\">'int'</span>, <span style=\"color: #008000; text-decoration-color: #008000\">'required'</span>: <span style=\"color: #ff0000; text-decoration-color: #ff0000; font-style: italic\">False</span><span style=\"font-weight: bold\">}</span>,\n",
       "            <span style=\"color: #008000; text-decoration-color: #008000\">'a_str'</span>: <span style=\"font-weight: bold\">{</span><span style=\"color: #008000; text-decoration-color: #008000\">'type'</span>: <span style=\"color: #008000; text-decoration-color: #008000\">'str'</span>, <span style=\"color: #008000; text-decoration-color: #008000\">'default_for_null'</span>: <span style=\"color: #008000; text-decoration-color: #008000\">''</span>, <span style=\"color: #008000; text-decoration-color: #008000\">'required'</span>: <span style=\"color: #ff0000; text-decoration-color: #ff0000; font-style: italic\">False</span><span style=\"font-weight: bold\">}</span>\n",
       "        <span style=\"font-weight: bold\">}</span>,\n",
       "        <span style=\"color: #008000; text-decoration-color: #008000\">'required'</span>: <span style=\"color: #ff0000; text-decoration-color: #ff0000; font-style: italic\">False</span>\n",
       "    <span style=\"font-weight: bold\">}</span>\n",
       "<span style=\"font-weight: bold\">}</span>\n",
       "</pre>\n"
      ],
      "text/plain": [
       "\u001b[1m{\u001b[0m\n",
       "    \u001b[32m'a_int'\u001b[0m: \u001b[1m{\u001b[0m\u001b[32m'type'\u001b[0m: \u001b[32m'int'\u001b[0m, \u001b[32m'required'\u001b[0m: \u001b[3;91mFalse\u001b[0m\u001b[1m}\u001b[0m,\n",
       "    \u001b[32m'a_float'\u001b[0m: \u001b[1m{\u001b[0m\u001b[32m'type'\u001b[0m: \u001b[32m'float'\u001b[0m, \u001b[32m'required'\u001b[0m: \u001b[3;91mFalse\u001b[0m\u001b[1m}\u001b[0m,\n",
       "    \u001b[32m'a_str'\u001b[0m: \u001b[1m{\u001b[0m\u001b[32m'type'\u001b[0m: \u001b[32m'str'\u001b[0m, \u001b[32m'default_for_null'\u001b[0m: \u001b[32m''\u001b[0m, \u001b[32m'required'\u001b[0m: \u001b[3;91mFalse\u001b[0m\u001b[1m}\u001b[0m,\n",
       "    \u001b[32m'a_binary'\u001b[0m: \u001b[1m{\u001b[0m\u001b[32m'type'\u001b[0m: \u001b[32m'bin'\u001b[0m, \u001b[32m'default_for_null'\u001b[0m: \u001b[32mb''\u001b[0m, \u001b[32m'required'\u001b[0m: \u001b[3;91mFalse\u001b[0m\u001b[1m}\u001b[0m,\n",
       "    \u001b[32m'a_bool'\u001b[0m: \u001b[1m{\u001b[0m\u001b[32m'type'\u001b[0m: \u001b[32m'bool'\u001b[0m, \u001b[32m'required'\u001b[0m: \u001b[3;91mFalse\u001b[0m\u001b[1m}\u001b[0m,\n",
       "    \u001b[32m'a_null'\u001b[0m: \u001b[1m{\u001b[0m\u001b[32m'type'\u001b[0m: \u001b[32m'null'\u001b[0m, \u001b[32m'default_for_null'\u001b[0m: \u001b[3;35mNone\u001b[0m, \u001b[32m'required'\u001b[0m: \u001b[3;91mFalse\u001b[0m\u001b[1m}\u001b[0m,\n",
       "    \u001b[32m'a_int_set'\u001b[0m: \u001b[1m{\u001b[0m\n",
       "        \u001b[32m'type'\u001b[0m: \u001b[32m'set'\u001b[0m,\n",
       "        \u001b[32m'itype'\u001b[0m: \u001b[1m{\u001b[0m\u001b[32m'type'\u001b[0m: \u001b[32m'int'\u001b[0m, \u001b[32m'required'\u001b[0m: \u001b[3;91mFalse\u001b[0m\u001b[1m}\u001b[0m,\n",
       "        \u001b[32m'default_for_null'\u001b[0m: \u001b[1m[\u001b[0m\u001b[1m]\u001b[0m,\n",
       "        \u001b[32m'required'\u001b[0m: \u001b[3;91mFalse\u001b[0m\n",
       "    \u001b[1m}\u001b[0m,\n",
       "    \u001b[32m'a_str_list'\u001b[0m: \u001b[1m{\u001b[0m\n",
       "        \u001b[32m'type'\u001b[0m: \u001b[32m'list'\u001b[0m,\n",
       "        \u001b[32m'itype'\u001b[0m: \u001b[1m{\u001b[0m\u001b[32m'type'\u001b[0m: \u001b[32m'str'\u001b[0m, \u001b[32m'default_for_null'\u001b[0m: \u001b[32m''\u001b[0m, \u001b[32m'required'\u001b[0m: \u001b[3;91mFalse\u001b[0m\u001b[1m}\u001b[0m,\n",
       "        \u001b[32m'default_for_null'\u001b[0m: \u001b[1m[\u001b[0m\u001b[1m]\u001b[0m,\n",
       "        \u001b[32m'required'\u001b[0m: \u001b[3;91mFalse\u001b[0m\n",
       "    \u001b[1m}\u001b[0m,\n",
       "    \u001b[32m'a_struct_list'\u001b[0m: \u001b[1m{\u001b[0m\n",
       "        \u001b[32m'type'\u001b[0m: \u001b[32m'list'\u001b[0m,\n",
       "        \u001b[32m'itype'\u001b[0m: \u001b[1m{\u001b[0m\n",
       "            \u001b[32m'type'\u001b[0m: \u001b[32m'struct'\u001b[0m,\n",
       "            \u001b[32m'fields'\u001b[0m: \u001b[1m{\u001b[0m\n",
       "                \u001b[32m'a_int'\u001b[0m: \u001b[1m{\u001b[0m\u001b[32m'type'\u001b[0m: \u001b[32m'int'\u001b[0m, \u001b[32m'required'\u001b[0m: \u001b[3;91mFalse\u001b[0m\u001b[1m}\u001b[0m,\n",
       "                \u001b[32m'a_str'\u001b[0m: \u001b[1m{\u001b[0m\u001b[32m'type'\u001b[0m: \u001b[32m'str'\u001b[0m, \u001b[32m'default_for_null'\u001b[0m: \u001b[32m''\u001b[0m, \u001b[32m'required'\u001b[0m: \u001b[3;91mFalse\u001b[0m\u001b[1m}\u001b[0m\n",
       "            \u001b[1m}\u001b[0m,\n",
       "            \u001b[32m'required'\u001b[0m: \u001b[3;91mFalse\u001b[0m\n",
       "        \u001b[1m}\u001b[0m,\n",
       "        \u001b[32m'default_for_null'\u001b[0m: \u001b[1m[\u001b[0m\u001b[1m]\u001b[0m,\n",
       "        \u001b[32m'required'\u001b[0m: \u001b[3;91mFalse\u001b[0m\n",
       "    \u001b[1m}\u001b[0m,\n",
       "    \u001b[32m'a_struct'\u001b[0m: \u001b[1m{\u001b[0m\n",
       "        \u001b[32m'type'\u001b[0m: \u001b[32m'struct'\u001b[0m,\n",
       "        \u001b[32m'fields'\u001b[0m: \u001b[1m{\u001b[0m\n",
       "            \u001b[32m'a_int'\u001b[0m: \u001b[1m{\u001b[0m\u001b[32m'type'\u001b[0m: \u001b[32m'int'\u001b[0m, \u001b[32m'required'\u001b[0m: \u001b[3;91mFalse\u001b[0m\u001b[1m}\u001b[0m,\n",
       "            \u001b[32m'a_str'\u001b[0m: \u001b[1m{\u001b[0m\u001b[32m'type'\u001b[0m: \u001b[32m'str'\u001b[0m, \u001b[32m'default_for_null'\u001b[0m: \u001b[32m''\u001b[0m, \u001b[32m'required'\u001b[0m: \u001b[3;91mFalse\u001b[0m\u001b[1m}\u001b[0m\n",
       "        \u001b[1m}\u001b[0m,\n",
       "        \u001b[32m'required'\u001b[0m: \u001b[3;91mFalse\u001b[0m\n",
       "    \u001b[1m}\u001b[0m\n",
       "\u001b[1m}\u001b[0m\n"
      ]
     },
     "metadata": {},
     "output_type": "display_data"
    }
   ],
   "source": [
    "simple_schema_json = {\n",
    "    k: v.to_dict() for k, v in simple_schema.items()\n",
    "}\n",
    "rprint(simple_schema_json)"
   ]
  },
  {
   "cell_type": "code",
   "execution_count": 4,
   "id": "115c7409af35c2a8",
   "metadata": {
    "ExecuteTime": {
     "end_time": "2024-09-02T03:22:27.222473Z",
     "start_time": "2024-09-02T03:22:27.219032Z"
    },
    "collapsed": false,
    "jupyter": {
     "outputs_hidden": false
    }
   },
   "outputs": [
    {
     "data": {
      "text/html": [
       "<pre style=\"white-space:pre;overflow-x:auto;line-height:normal;font-family:Menlo,'DejaVu Sans Mono',consolas,'Courier New',monospace\"><span style=\"font-weight: bold\">{</span>\n",
       "    <span style=\"color: #008000; text-decoration-color: #008000\">'a_int'</span>: <span style=\"color: #800080; text-decoration-color: #800080; font-weight: bold\">Integer</span><span style=\"font-weight: bold\">(</span><span style=\"color: #808000; text-decoration-color: #808000\">default_for_null</span>=<span style=\"color: #800080; text-decoration-color: #800080; font-weight: bold\">Sentinel</span><span style=\"font-weight: bold\">(</span><span style=\"color: #008000; text-decoration-color: #008000\">'NOTHING'</span><span style=\"font-weight: bold\">)</span>, <span style=\"color: #808000; text-decoration-color: #808000\">required</span>=<span style=\"color: #ff0000; text-decoration-color: #ff0000; font-style: italic\">False</span><span style=\"font-weight: bold\">)</span>,\n",
       "    <span style=\"color: #008000; text-decoration-color: #008000\">'a_float'</span>: <span style=\"color: #800080; text-decoration-color: #800080; font-weight: bold\">Float</span><span style=\"font-weight: bold\">(</span><span style=\"color: #808000; text-decoration-color: #808000\">default_for_null</span>=<span style=\"color: #800080; text-decoration-color: #800080; font-weight: bold\">Sentinel</span><span style=\"font-weight: bold\">(</span><span style=\"color: #008000; text-decoration-color: #008000\">'NOTHING'</span><span style=\"font-weight: bold\">)</span>, <span style=\"color: #808000; text-decoration-color: #808000\">precision</span>=<span style=\"color: #800080; text-decoration-color: #800080; font-weight: bold\">Sentinel</span><span style=\"font-weight: bold\">(</span><span style=\"color: #008000; text-decoration-color: #008000\">'NOTHING'</span><span style=\"font-weight: bold\">)</span>, <span style=\"color: #808000; text-decoration-color: #808000\">required</span>=<span style=\"color: #ff0000; text-decoration-color: #ff0000; font-style: italic\">False</span><span style=\"font-weight: bold\">)</span>,\n",
       "    <span style=\"color: #008000; text-decoration-color: #008000\">'a_str'</span>: <span style=\"color: #800080; text-decoration-color: #800080; font-weight: bold\">String</span><span style=\"font-weight: bold\">(</span><span style=\"color: #808000; text-decoration-color: #808000\">default_for_null</span>=<span style=\"color: #008000; text-decoration-color: #008000\">''</span>, <span style=\"color: #808000; text-decoration-color: #808000\">required</span>=<span style=\"color: #ff0000; text-decoration-color: #ff0000; font-style: italic\">False</span><span style=\"font-weight: bold\">)</span>,\n",
       "    <span style=\"color: #008000; text-decoration-color: #008000\">'a_binary'</span>: <span style=\"color: #800080; text-decoration-color: #800080; font-weight: bold\">Binary</span><span style=\"font-weight: bold\">(</span><span style=\"color: #808000; text-decoration-color: #808000\">default_for_null</span>=<span style=\"color: #008000; text-decoration-color: #008000\">b''</span>, <span style=\"color: #808000; text-decoration-color: #808000\">required</span>=<span style=\"color: #ff0000; text-decoration-color: #ff0000; font-style: italic\">False</span><span style=\"font-weight: bold\">)</span>,\n",
       "    <span style=\"color: #008000; text-decoration-color: #008000\">'a_bool'</span>: <span style=\"color: #800080; text-decoration-color: #800080; font-weight: bold\">Bool</span><span style=\"font-weight: bold\">(</span><span style=\"color: #808000; text-decoration-color: #808000\">default_for_null</span>=<span style=\"color: #800080; text-decoration-color: #800080; font-weight: bold\">Sentinel</span><span style=\"font-weight: bold\">(</span><span style=\"color: #008000; text-decoration-color: #008000\">'NOTHING'</span><span style=\"font-weight: bold\">)</span>, <span style=\"color: #808000; text-decoration-color: #808000\">required</span>=<span style=\"color: #ff0000; text-decoration-color: #ff0000; font-style: italic\">False</span><span style=\"font-weight: bold\">)</span>,\n",
       "    <span style=\"color: #008000; text-decoration-color: #008000\">'a_null'</span>: <span style=\"color: #800080; text-decoration-color: #800080; font-weight: bold\">Null</span><span style=\"font-weight: bold\">(</span><span style=\"color: #808000; text-decoration-color: #808000\">default_for_null</span>=<span style=\"color: #800080; text-decoration-color: #800080; font-style: italic\">None</span>, <span style=\"color: #808000; text-decoration-color: #808000\">required</span>=<span style=\"color: #ff0000; text-decoration-color: #ff0000; font-style: italic\">False</span><span style=\"font-weight: bold\">)</span>,\n",
       "    <span style=\"color: #008000; text-decoration-color: #008000\">'a_int_set'</span>: <span style=\"color: #800080; text-decoration-color: #800080; font-weight: bold\">Set</span><span style=\"font-weight: bold\">(</span>\n",
       "        <span style=\"color: #808000; text-decoration-color: #808000\">itype</span>=<span style=\"color: #800080; text-decoration-color: #800080; font-weight: bold\">Integer</span><span style=\"font-weight: bold\">(</span><span style=\"color: #808000; text-decoration-color: #808000\">default_for_null</span>=<span style=\"color: #800080; text-decoration-color: #800080; font-weight: bold\">Sentinel</span><span style=\"font-weight: bold\">(</span><span style=\"color: #008000; text-decoration-color: #008000\">'NOTHING'</span><span style=\"font-weight: bold\">)</span>, <span style=\"color: #808000; text-decoration-color: #808000\">required</span>=<span style=\"color: #ff0000; text-decoration-color: #ff0000; font-style: italic\">False</span><span style=\"font-weight: bold\">)</span>,\n",
       "        <span style=\"color: #808000; text-decoration-color: #808000\">default_for_null</span>=<span style=\"font-weight: bold\">[]</span>,\n",
       "        <span style=\"color: #808000; text-decoration-color: #808000\">required</span>=<span style=\"color: #ff0000; text-decoration-color: #ff0000; font-style: italic\">False</span>\n",
       "    <span style=\"font-weight: bold\">)</span>,\n",
       "    <span style=\"color: #008000; text-decoration-color: #008000\">'a_str_list'</span>: <span style=\"color: #800080; text-decoration-color: #800080; font-weight: bold\">List</span><span style=\"font-weight: bold\">(</span><span style=\"color: #808000; text-decoration-color: #808000\">itype</span>=<span style=\"color: #800080; text-decoration-color: #800080; font-weight: bold\">String</span><span style=\"font-weight: bold\">(</span><span style=\"color: #808000; text-decoration-color: #808000\">default_for_null</span>=<span style=\"color: #008000; text-decoration-color: #008000\">''</span>, <span style=\"color: #808000; text-decoration-color: #808000\">required</span>=<span style=\"color: #ff0000; text-decoration-color: #ff0000; font-style: italic\">False</span><span style=\"font-weight: bold\">)</span>, <span style=\"color: #808000; text-decoration-color: #808000\">default_for_null</span>=<span style=\"font-weight: bold\">[]</span>, <span style=\"color: #808000; text-decoration-color: #808000\">required</span>=<span style=\"color: #ff0000; text-decoration-color: #ff0000; font-style: italic\">False</span><span style=\"font-weight: bold\">)</span>,\n",
       "    <span style=\"color: #008000; text-decoration-color: #008000\">'a_struct_list'</span>: <span style=\"color: #800080; text-decoration-color: #800080; font-weight: bold\">List</span><span style=\"font-weight: bold\">(</span>\n",
       "        <span style=\"color: #808000; text-decoration-color: #808000\">itype</span>=<span style=\"color: #800080; text-decoration-color: #800080; font-weight: bold\">Struct</span><span style=\"font-weight: bold\">(</span>\n",
       "            <span style=\"color: #808000; text-decoration-color: #808000\">fields</span>=<span style=\"font-weight: bold\">{</span>\n",
       "                <span style=\"color: #008000; text-decoration-color: #008000\">'a_int'</span>: <span style=\"color: #800080; text-decoration-color: #800080; font-weight: bold\">Integer</span><span style=\"font-weight: bold\">(</span><span style=\"color: #808000; text-decoration-color: #808000\">default_for_null</span>=<span style=\"color: #800080; text-decoration-color: #800080; font-weight: bold\">Sentinel</span><span style=\"font-weight: bold\">(</span><span style=\"color: #008000; text-decoration-color: #008000\">'NOTHING'</span><span style=\"font-weight: bold\">)</span>, <span style=\"color: #808000; text-decoration-color: #808000\">required</span>=<span style=\"color: #ff0000; text-decoration-color: #ff0000; font-style: italic\">False</span><span style=\"font-weight: bold\">)</span>,\n",
       "                <span style=\"color: #008000; text-decoration-color: #008000\">'a_str'</span>: <span style=\"color: #800080; text-decoration-color: #800080; font-weight: bold\">String</span><span style=\"font-weight: bold\">(</span><span style=\"color: #808000; text-decoration-color: #808000\">default_for_null</span>=<span style=\"color: #008000; text-decoration-color: #008000\">''</span>, <span style=\"color: #808000; text-decoration-color: #808000\">required</span>=<span style=\"color: #ff0000; text-decoration-color: #ff0000; font-style: italic\">False</span><span style=\"font-weight: bold\">)</span>\n",
       "            <span style=\"font-weight: bold\">}</span>,\n",
       "            <span style=\"color: #808000; text-decoration-color: #808000\">required</span>=<span style=\"color: #ff0000; text-decoration-color: #ff0000; font-style: italic\">False</span>\n",
       "        <span style=\"font-weight: bold\">)</span>,\n",
       "        <span style=\"color: #808000; text-decoration-color: #808000\">default_for_null</span>=<span style=\"font-weight: bold\">[]</span>,\n",
       "        <span style=\"color: #808000; text-decoration-color: #808000\">required</span>=<span style=\"color: #ff0000; text-decoration-color: #ff0000; font-style: italic\">False</span>\n",
       "    <span style=\"font-weight: bold\">)</span>,\n",
       "    <span style=\"color: #008000; text-decoration-color: #008000\">'a_struct'</span>: <span style=\"color: #800080; text-decoration-color: #800080; font-weight: bold\">Struct</span><span style=\"font-weight: bold\">(</span>\n",
       "        <span style=\"color: #808000; text-decoration-color: #808000\">fields</span>=<span style=\"font-weight: bold\">{</span>\n",
       "            <span style=\"color: #008000; text-decoration-color: #008000\">'a_int'</span>: <span style=\"color: #800080; text-decoration-color: #800080; font-weight: bold\">Integer</span><span style=\"font-weight: bold\">(</span><span style=\"color: #808000; text-decoration-color: #808000\">default_for_null</span>=<span style=\"color: #800080; text-decoration-color: #800080; font-weight: bold\">Sentinel</span><span style=\"font-weight: bold\">(</span><span style=\"color: #008000; text-decoration-color: #008000\">'NOTHING'</span><span style=\"font-weight: bold\">)</span>, <span style=\"color: #808000; text-decoration-color: #808000\">required</span>=<span style=\"color: #ff0000; text-decoration-color: #ff0000; font-style: italic\">False</span><span style=\"font-weight: bold\">)</span>,\n",
       "            <span style=\"color: #008000; text-decoration-color: #008000\">'a_str'</span>: <span style=\"color: #800080; text-decoration-color: #800080; font-weight: bold\">String</span><span style=\"font-weight: bold\">(</span><span style=\"color: #808000; text-decoration-color: #808000\">default_for_null</span>=<span style=\"color: #008000; text-decoration-color: #008000\">''</span>, <span style=\"color: #808000; text-decoration-color: #808000\">required</span>=<span style=\"color: #ff0000; text-decoration-color: #ff0000; font-style: italic\">False</span><span style=\"font-weight: bold\">)</span>\n",
       "        <span style=\"font-weight: bold\">}</span>,\n",
       "        <span style=\"color: #808000; text-decoration-color: #808000\">required</span>=<span style=\"color: #ff0000; text-decoration-color: #ff0000; font-style: italic\">False</span>\n",
       "    <span style=\"font-weight: bold\">)</span>\n",
       "<span style=\"font-weight: bold\">}</span>\n",
       "</pre>\n"
      ],
      "text/plain": [
       "\u001b[1m{\u001b[0m\n",
       "    \u001b[32m'a_int'\u001b[0m: \u001b[1;35mInteger\u001b[0m\u001b[1m(\u001b[0m\u001b[33mdefault_for_null\u001b[0m=\u001b[1;35mSentinel\u001b[0m\u001b[1m(\u001b[0m\u001b[32m'NOTHING'\u001b[0m\u001b[1m)\u001b[0m, \u001b[33mrequired\u001b[0m=\u001b[3;91mFalse\u001b[0m\u001b[1m)\u001b[0m,\n",
       "    \u001b[32m'a_float'\u001b[0m: \u001b[1;35mFloat\u001b[0m\u001b[1m(\u001b[0m\u001b[33mdefault_for_null\u001b[0m=\u001b[1;35mSentinel\u001b[0m\u001b[1m(\u001b[0m\u001b[32m'NOTHING'\u001b[0m\u001b[1m)\u001b[0m, \u001b[33mprecision\u001b[0m=\u001b[1;35mSentinel\u001b[0m\u001b[1m(\u001b[0m\u001b[32m'NOTHING'\u001b[0m\u001b[1m)\u001b[0m, \u001b[33mrequired\u001b[0m=\u001b[3;91mFalse\u001b[0m\u001b[1m)\u001b[0m,\n",
       "    \u001b[32m'a_str'\u001b[0m: \u001b[1;35mString\u001b[0m\u001b[1m(\u001b[0m\u001b[33mdefault_for_null\u001b[0m=\u001b[32m''\u001b[0m, \u001b[33mrequired\u001b[0m=\u001b[3;91mFalse\u001b[0m\u001b[1m)\u001b[0m,\n",
       "    \u001b[32m'a_binary'\u001b[0m: \u001b[1;35mBinary\u001b[0m\u001b[1m(\u001b[0m\u001b[33mdefault_for_null\u001b[0m=\u001b[32mb\u001b[0m\u001b[32m''\u001b[0m, \u001b[33mrequired\u001b[0m=\u001b[3;91mFalse\u001b[0m\u001b[1m)\u001b[0m,\n",
       "    \u001b[32m'a_bool'\u001b[0m: \u001b[1;35mBool\u001b[0m\u001b[1m(\u001b[0m\u001b[33mdefault_for_null\u001b[0m=\u001b[1;35mSentinel\u001b[0m\u001b[1m(\u001b[0m\u001b[32m'NOTHING'\u001b[0m\u001b[1m)\u001b[0m, \u001b[33mrequired\u001b[0m=\u001b[3;91mFalse\u001b[0m\u001b[1m)\u001b[0m,\n",
       "    \u001b[32m'a_null'\u001b[0m: \u001b[1;35mNull\u001b[0m\u001b[1m(\u001b[0m\u001b[33mdefault_for_null\u001b[0m=\u001b[3;35mNone\u001b[0m, \u001b[33mrequired\u001b[0m=\u001b[3;91mFalse\u001b[0m\u001b[1m)\u001b[0m,\n",
       "    \u001b[32m'a_int_set'\u001b[0m: \u001b[1;35mSet\u001b[0m\u001b[1m(\u001b[0m\n",
       "        \u001b[33mitype\u001b[0m=\u001b[1;35mInteger\u001b[0m\u001b[1m(\u001b[0m\u001b[33mdefault_for_null\u001b[0m=\u001b[1;35mSentinel\u001b[0m\u001b[1m(\u001b[0m\u001b[32m'NOTHING'\u001b[0m\u001b[1m)\u001b[0m, \u001b[33mrequired\u001b[0m=\u001b[3;91mFalse\u001b[0m\u001b[1m)\u001b[0m,\n",
       "        \u001b[33mdefault_for_null\u001b[0m=\u001b[1m[\u001b[0m\u001b[1m]\u001b[0m,\n",
       "        \u001b[33mrequired\u001b[0m=\u001b[3;91mFalse\u001b[0m\n",
       "    \u001b[1m)\u001b[0m,\n",
       "    \u001b[32m'a_str_list'\u001b[0m: \u001b[1;35mList\u001b[0m\u001b[1m(\u001b[0m\u001b[33mitype\u001b[0m=\u001b[1;35mString\u001b[0m\u001b[1m(\u001b[0m\u001b[33mdefault_for_null\u001b[0m=\u001b[32m''\u001b[0m, \u001b[33mrequired\u001b[0m=\u001b[3;91mFalse\u001b[0m\u001b[1m)\u001b[0m, \u001b[33mdefault_for_null\u001b[0m=\u001b[1m[\u001b[0m\u001b[1m]\u001b[0m, \u001b[33mrequired\u001b[0m=\u001b[3;91mFalse\u001b[0m\u001b[1m)\u001b[0m,\n",
       "    \u001b[32m'a_struct_list'\u001b[0m: \u001b[1;35mList\u001b[0m\u001b[1m(\u001b[0m\n",
       "        \u001b[33mitype\u001b[0m=\u001b[1;35mStruct\u001b[0m\u001b[1m(\u001b[0m\n",
       "            \u001b[33mfields\u001b[0m=\u001b[1m{\u001b[0m\n",
       "                \u001b[32m'a_int'\u001b[0m: \u001b[1;35mInteger\u001b[0m\u001b[1m(\u001b[0m\u001b[33mdefault_for_null\u001b[0m=\u001b[1;35mSentinel\u001b[0m\u001b[1m(\u001b[0m\u001b[32m'NOTHING'\u001b[0m\u001b[1m)\u001b[0m, \u001b[33mrequired\u001b[0m=\u001b[3;91mFalse\u001b[0m\u001b[1m)\u001b[0m,\n",
       "                \u001b[32m'a_str'\u001b[0m: \u001b[1;35mString\u001b[0m\u001b[1m(\u001b[0m\u001b[33mdefault_for_null\u001b[0m=\u001b[32m''\u001b[0m, \u001b[33mrequired\u001b[0m=\u001b[3;91mFalse\u001b[0m\u001b[1m)\u001b[0m\n",
       "            \u001b[1m}\u001b[0m,\n",
       "            \u001b[33mrequired\u001b[0m=\u001b[3;91mFalse\u001b[0m\n",
       "        \u001b[1m)\u001b[0m,\n",
       "        \u001b[33mdefault_for_null\u001b[0m=\u001b[1m[\u001b[0m\u001b[1m]\u001b[0m,\n",
       "        \u001b[33mrequired\u001b[0m=\u001b[3;91mFalse\u001b[0m\n",
       "    \u001b[1m)\u001b[0m,\n",
       "    \u001b[32m'a_struct'\u001b[0m: \u001b[1;35mStruct\u001b[0m\u001b[1m(\u001b[0m\n",
       "        \u001b[33mfields\u001b[0m=\u001b[1m{\u001b[0m\n",
       "            \u001b[32m'a_int'\u001b[0m: \u001b[1;35mInteger\u001b[0m\u001b[1m(\u001b[0m\u001b[33mdefault_for_null\u001b[0m=\u001b[1;35mSentinel\u001b[0m\u001b[1m(\u001b[0m\u001b[32m'NOTHING'\u001b[0m\u001b[1m)\u001b[0m, \u001b[33mrequired\u001b[0m=\u001b[3;91mFalse\u001b[0m\u001b[1m)\u001b[0m,\n",
       "            \u001b[32m'a_str'\u001b[0m: \u001b[1;35mString\u001b[0m\u001b[1m(\u001b[0m\u001b[33mdefault_for_null\u001b[0m=\u001b[32m''\u001b[0m, \u001b[33mrequired\u001b[0m=\u001b[3;91mFalse\u001b[0m\u001b[1m)\u001b[0m\n",
       "        \u001b[1m}\u001b[0m,\n",
       "        \u001b[33mrequired\u001b[0m=\u001b[3;91mFalse\u001b[0m\n",
       "    \u001b[1m)\u001b[0m\n",
       "\u001b[1m}\u001b[0m\n"
      ]
     },
     "metadata": {},
     "output_type": "display_data"
    }
   ],
   "source": [
    "simple_schema_1 = {\n",
    "    k: json_type_to_simple_type(v) for k, v in simple_schema_json.items()\n",
    "}\n",
    "rprint(simple_schema_1)"
   ]
  },
  {
   "cell_type": "code",
   "execution_count": 5,
   "id": "d0fcf03e803d6b65",
   "metadata": {
    "ExecuteTime": {
     "end_time": "2024-09-02T03:22:41.823903Z",
     "start_time": "2024-09-02T03:22:41.818994Z"
    },
    "collapsed": false,
    "jupyter": {
     "outputs_hidden": false
    }
   },
   "outputs": [
    {
     "data": {
      "text/html": [
       "<pre style=\"white-space:pre;overflow-x:auto;line-height:normal;font-family:Menlo,'DejaVu Sans Mono',consolas,'Courier New',monospace\"><span style=\"font-weight: bold\">{</span>\n",
       "    <span style=\"color: #008000; text-decoration-color: #008000\">'a_int'</span>: Int32,\n",
       "    <span style=\"color: #008000; text-decoration-color: #008000\">'a_float'</span>: Float32,\n",
       "    <span style=\"color: #008000; text-decoration-color: #008000\">'a_str'</span>: String,\n",
       "    <span style=\"color: #008000; text-decoration-color: #008000\">'a_binary'</span>: Binary,\n",
       "    <span style=\"color: #008000; text-decoration-color: #008000\">'a_bool'</span>: Boolean,\n",
       "    <span style=\"color: #008000; text-decoration-color: #008000\">'a_null'</span>: Null,\n",
       "    <span style=\"color: #008000; text-decoration-color: #008000\">'a_int_set'</span>: <span style=\"color: #800080; text-decoration-color: #800080; font-weight: bold\">List</span><span style=\"font-weight: bold\">(</span>Int32<span style=\"font-weight: bold\">)</span>,\n",
       "    <span style=\"color: #008000; text-decoration-color: #008000\">'a_str_list'</span>: <span style=\"color: #800080; text-decoration-color: #800080; font-weight: bold\">List</span><span style=\"font-weight: bold\">(</span>String<span style=\"font-weight: bold\">)</span>,\n",
       "    <span style=\"color: #008000; text-decoration-color: #008000\">'a_struct_list'</span>: <span style=\"color: #800080; text-decoration-color: #800080; font-weight: bold\">List</span><span style=\"font-weight: bold\">(</span><span style=\"color: #800080; text-decoration-color: #800080; font-weight: bold\">Struct</span><span style=\"font-weight: bold\">({</span><span style=\"color: #008000; text-decoration-color: #008000\">'a_int'</span>: Int32, <span style=\"color: #008000; text-decoration-color: #008000\">'a_str'</span>: String<span style=\"font-weight: bold\">}))</span>,\n",
       "    <span style=\"color: #008000; text-decoration-color: #008000\">'a_struct'</span>: <span style=\"color: #800080; text-decoration-color: #800080; font-weight: bold\">Struct</span><span style=\"font-weight: bold\">({</span><span style=\"color: #008000; text-decoration-color: #008000\">'a_int'</span>: Int32, <span style=\"color: #008000; text-decoration-color: #008000\">'a_str'</span>: String<span style=\"font-weight: bold\">})</span>\n",
       "<span style=\"font-weight: bold\">}</span>\n",
       "</pre>\n"
      ],
      "text/plain": [
       "\u001b[1m{\u001b[0m\n",
       "    \u001b[32m'a_int'\u001b[0m: Int32,\n",
       "    \u001b[32m'a_float'\u001b[0m: Float32,\n",
       "    \u001b[32m'a_str'\u001b[0m: String,\n",
       "    \u001b[32m'a_binary'\u001b[0m: Binary,\n",
       "    \u001b[32m'a_bool'\u001b[0m: Boolean,\n",
       "    \u001b[32m'a_null'\u001b[0m: Null,\n",
       "    \u001b[32m'a_int_set'\u001b[0m: \u001b[1;35mList\u001b[0m\u001b[1m(\u001b[0mInt32\u001b[1m)\u001b[0m,\n",
       "    \u001b[32m'a_str_list'\u001b[0m: \u001b[1;35mList\u001b[0m\u001b[1m(\u001b[0mString\u001b[1m)\u001b[0m,\n",
       "    \u001b[32m'a_struct_list'\u001b[0m: \u001b[1;35mList\u001b[0m\u001b[1m(\u001b[0m\u001b[1;35mStruct\u001b[0m\u001b[1m(\u001b[0m\u001b[1m{\u001b[0m\u001b[32m'a_int'\u001b[0m: Int32, \u001b[32m'a_str'\u001b[0m: String\u001b[1m}\u001b[0m\u001b[1m)\u001b[0m\u001b[1m)\u001b[0m,\n",
       "    \u001b[32m'a_struct'\u001b[0m: \u001b[1;35mStruct\u001b[0m\u001b[1m(\u001b[0m\u001b[1m{\u001b[0m\u001b[32m'a_int'\u001b[0m: Int32, \u001b[32m'a_str'\u001b[0m: String\u001b[1m}\u001b[0m\u001b[1m)\u001b[0m\n",
       "\u001b[1m}\u001b[0m\n"
      ]
     },
     "metadata": {},
     "output_type": "display_data"
    }
   ],
   "source": [
    "polars_schema = {\n",
    "    k: v.to_polars() for k, v in simple_schema.items()\n",
    "}\n",
    "rprint(polars_schema)"
   ]
  },
  {
   "cell_type": "code",
   "execution_count": 6,
   "id": "693eee4503029c3d",
   "metadata": {
    "ExecuteTime": {
     "end_time": "2024-09-02T03:22:52.760229Z",
     "start_time": "2024-09-02T03:22:52.755912Z"
    },
    "collapsed": false,
    "jupyter": {
     "outputs_hidden": false
    }
   },
   "outputs": [
    {
     "data": {
      "text/html": [
       "<pre style=\"white-space:pre;overflow-x:auto;line-height:normal;font-family:Menlo,'DejaVu Sans Mono',consolas,'Courier New',monospace\"><span style=\"font-weight: bold\">{</span>\n",
       "    <span style=\"color: #008000; text-decoration-color: #008000\">'a_int'</span>: <span style=\"color: #008000; text-decoration-color: #008000\">'bigint'</span>,\n",
       "    <span style=\"color: #008000; text-decoration-color: #008000\">'a_float'</span>: <span style=\"color: #008000; text-decoration-color: #008000\">'float'</span>,\n",
       "    <span style=\"color: #008000; text-decoration-color: #008000\">'a_str'</span>: <span style=\"color: #008000; text-decoration-color: #008000\">'string'</span>,\n",
       "    <span style=\"color: #008000; text-decoration-color: #008000\">'a_binary'</span>: <span style=\"color: #008000; text-decoration-color: #008000\">'binary'</span>,\n",
       "    <span style=\"color: #008000; text-decoration-color: #008000\">'a_bool'</span>: <span style=\"color: #008000; text-decoration-color: #008000\">'boolean'</span>,\n",
       "    <span style=\"color: #008000; text-decoration-color: #008000\">'a_null'</span>: <span style=\"color: #008000; text-decoration-color: #008000\">'string'</span>,\n",
       "    <span style=\"color: #008000; text-decoration-color: #008000\">'a_int_set'</span>: <span style=\"color: #008000; text-decoration-color: #008000\">'array&lt;bigint&gt;'</span><span style=\"color: #000000; text-decoration-color: #000000\">,</span>\n",
       "<span style=\"color: #000000; text-decoration-color: #000000\">    </span><span style=\"color: #008000; text-decoration-color: #008000\">'a_str_list'</span><span style=\"color: #000000; text-decoration-color: #000000\">: </span><span style=\"color: #008000; text-decoration-color: #008000\">'array&lt;string&gt;'</span><span style=\"color: #000000; text-decoration-color: #000000\">,</span>\n",
       "<span style=\"color: #000000; text-decoration-color: #000000\">    </span><span style=\"color: #008000; text-decoration-color: #008000\">'a_struct_list'</span><span style=\"color: #000000; text-decoration-color: #000000\">: </span><span style=\"color: #008000; text-decoration-color: #008000\">'array&lt;struct&lt;a_int:bigint,a_str:string&gt;&gt;'</span><span style=\"color: #000000; text-decoration-color: #000000\">,</span>\n",
       "<span style=\"color: #000000; text-decoration-color: #000000\">    </span><span style=\"color: #008000; text-decoration-color: #008000\">'a_struct'</span><span style=\"color: #000000; text-decoration-color: #000000\">: </span><span style=\"color: #008000; text-decoration-color: #008000\">'struct&lt;a_int:bigint,a_str:string&gt;'</span>\n",
       "<span style=\"font-weight: bold\">}</span>\n",
       "</pre>\n"
      ],
      "text/plain": [
       "\u001b[1m{\u001b[0m\n",
       "    \u001b[32m'a_int'\u001b[0m: \u001b[32m'bigint'\u001b[0m,\n",
       "    \u001b[32m'a_float'\u001b[0m: \u001b[32m'float'\u001b[0m,\n",
       "    \u001b[32m'a_str'\u001b[0m: \u001b[32m'string'\u001b[0m,\n",
       "    \u001b[32m'a_binary'\u001b[0m: \u001b[32m'binary'\u001b[0m,\n",
       "    \u001b[32m'a_bool'\u001b[0m: \u001b[32m'boolean'\u001b[0m,\n",
       "    \u001b[32m'a_null'\u001b[0m: \u001b[32m'string'\u001b[0m,\n",
       "    \u001b[32m'a_int_set'\u001b[0m: \u001b[32m'array\u001b[0m\u001b[32m<\u001b[0m\u001b[32mbigint\u001b[0m\u001b[32m>'\u001b[0m\u001b[39m,\u001b[0m\n",
       "\u001b[39m    \u001b[0m\u001b[32m'a_str_list'\u001b[0m\u001b[39m: \u001b[0m\u001b[32m'array<string>'\u001b[0m\u001b[39m,\u001b[0m\n",
       "\u001b[39m    \u001b[0m\u001b[32m'a_struct_list'\u001b[0m\u001b[39m: \u001b[0m\u001b[32m'array<struct<a_int:bigint,a_str:string>>'\u001b[0m\u001b[39m,\u001b[0m\n",
       "\u001b[39m    \u001b[0m\u001b[32m'a_struct'\u001b[0m\u001b[39m: \u001b[0m\u001b[32m'struct<a_int:bigint,a_str:string\u001b[0m\u001b[32m>\u001b[0m\u001b[32m'\u001b[0m\n",
       "\u001b[1m}\u001b[0m\n"
      ]
     },
     "metadata": {},
     "output_type": "display_data"
    }
   ],
   "source": [
    "glue_schema = {\n",
    "    k: v.to_glue() for k, v in simple_schema.items()\n",
    "}\n",
    "rprint(glue_schema)"
   ]
  },
  {
   "cell_type": "code",
   "execution_count": 7,
   "id": "6dc8c90dedd629",
   "metadata": {
    "ExecuteTime": {
     "end_time": "2024-09-02T03:23:04.324266Z",
     "start_time": "2024-09-02T03:23:04.318477Z"
    },
    "collapsed": false,
    "jupyter": {
     "outputs_hidden": false
    }
   },
   "outputs": [
    {
     "data": {
      "text/html": [
       "<pre style=\"white-space:pre;overflow-x:auto;line-height:normal;font-family:Menlo,'DejaVu Sans Mono',consolas,'Courier New',monospace\"><span style=\"font-weight: bold\">{</span>\n",
       "    <span style=\"color: #008000; text-decoration-color: #008000\">'a_int'</span>: <span style=\"color: #008000; text-decoration-color: #008000\">'bigint'</span>,\n",
       "    <span style=\"color: #008000; text-decoration-color: #008000\">'a_float'</span>: <span style=\"color: #008000; text-decoration-color: #008000\">'float'</span>,\n",
       "    <span style=\"color: #008000; text-decoration-color: #008000\">'a_str'</span>: <span style=\"color: #008000; text-decoration-color: #008000\">'string'</span>,\n",
       "    <span style=\"color: #008000; text-decoration-color: #008000\">'a_binary'</span>: <span style=\"color: #008000; text-decoration-color: #008000\">'binary'</span>,\n",
       "    <span style=\"color: #008000; text-decoration-color: #008000\">'a_bool'</span>: <span style=\"color: #008000; text-decoration-color: #008000\">'boolean'</span>,\n",
       "    <span style=\"color: #008000; text-decoration-color: #008000\">'a_null'</span>: <span style=\"color: #008000; text-decoration-color: #008000\">'null'</span>,\n",
       "    <span style=\"color: #008000; text-decoration-color: #008000\">'a_int_set'</span>: <span style=\"font-weight: bold\">{</span><span style=\"color: #008000; text-decoration-color: #008000\">'type'</span>: <span style=\"color: #008000; text-decoration-color: #008000\">'array'</span>, <span style=\"color: #008000; text-decoration-color: #008000\">'elementType'</span>: <span style=\"color: #008000; text-decoration-color: #008000\">'bigint'</span><span style=\"font-weight: bold\">}</span>,\n",
       "    <span style=\"color: #008000; text-decoration-color: #008000\">'a_str_list'</span>: <span style=\"font-weight: bold\">{</span><span style=\"color: #008000; text-decoration-color: #008000\">'type'</span>: <span style=\"color: #008000; text-decoration-color: #008000\">'array'</span>, <span style=\"color: #008000; text-decoration-color: #008000\">'elementType'</span>: <span style=\"color: #008000; text-decoration-color: #008000\">'string'</span>, <span style=\"color: #008000; text-decoration-color: #008000\">'containsNull'</span>: <span style=\"color: #00ff00; text-decoration-color: #00ff00; font-style: italic\">True</span><span style=\"font-weight: bold\">}</span>,\n",
       "    <span style=\"color: #008000; text-decoration-color: #008000\">'a_struct_list'</span>: <span style=\"font-weight: bold\">{</span>\n",
       "        <span style=\"color: #008000; text-decoration-color: #008000\">'type'</span>: <span style=\"color: #008000; text-decoration-color: #008000\">'array'</span>,\n",
       "        <span style=\"color: #008000; text-decoration-color: #008000\">'elementType'</span>: <span style=\"font-weight: bold\">{</span>\n",
       "            <span style=\"color: #008000; text-decoration-color: #008000\">'type'</span>: <span style=\"color: #008000; text-decoration-color: #008000\">'struct'</span>,\n",
       "            <span style=\"color: #008000; text-decoration-color: #008000\">'fields'</span>: <span style=\"font-weight: bold\">[</span>\n",
       "                <span style=\"font-weight: bold\">{</span><span style=\"color: #008000; text-decoration-color: #008000\">'name'</span>: <span style=\"color: #008000; text-decoration-color: #008000\">'a_int'</span>, <span style=\"color: #008000; text-decoration-color: #008000\">'type'</span>: <span style=\"color: #008000; text-decoration-color: #008000\">'bigint'</span>, <span style=\"color: #008000; text-decoration-color: #008000\">'nullable'</span>: <span style=\"color: #00ff00; text-decoration-color: #00ff00; font-style: italic\">True</span>, <span style=\"color: #008000; text-decoration-color: #008000\">'metadata'</span>: <span style=\"font-weight: bold\">{}}</span>,\n",
       "                <span style=\"font-weight: bold\">{</span><span style=\"color: #008000; text-decoration-color: #008000\">'name'</span>: <span style=\"color: #008000; text-decoration-color: #008000\">'a_str'</span>, <span style=\"color: #008000; text-decoration-color: #008000\">'type'</span>: <span style=\"color: #008000; text-decoration-color: #008000\">'string'</span>, <span style=\"color: #008000; text-decoration-color: #008000\">'nullable'</span>: <span style=\"color: #00ff00; text-decoration-color: #00ff00; font-style: italic\">True</span>, <span style=\"color: #008000; text-decoration-color: #008000\">'metadata'</span>: <span style=\"font-weight: bold\">{}}</span>\n",
       "            <span style=\"font-weight: bold\">]</span>\n",
       "        <span style=\"font-weight: bold\">}</span>,\n",
       "        <span style=\"color: #008000; text-decoration-color: #008000\">'containsNull'</span>: <span style=\"color: #00ff00; text-decoration-color: #00ff00; font-style: italic\">True</span>\n",
       "    <span style=\"font-weight: bold\">}</span>,\n",
       "    <span style=\"color: #008000; text-decoration-color: #008000\">'a_struct'</span>: <span style=\"font-weight: bold\">{</span>\n",
       "        <span style=\"color: #008000; text-decoration-color: #008000\">'type'</span>: <span style=\"color: #008000; text-decoration-color: #008000\">'struct'</span>,\n",
       "        <span style=\"color: #008000; text-decoration-color: #008000\">'fields'</span>: <span style=\"font-weight: bold\">[</span>\n",
       "            <span style=\"font-weight: bold\">{</span><span style=\"color: #008000; text-decoration-color: #008000\">'name'</span>: <span style=\"color: #008000; text-decoration-color: #008000\">'a_int'</span>, <span style=\"color: #008000; text-decoration-color: #008000\">'type'</span>: <span style=\"color: #008000; text-decoration-color: #008000\">'bigint'</span>, <span style=\"color: #008000; text-decoration-color: #008000\">'nullable'</span>: <span style=\"color: #00ff00; text-decoration-color: #00ff00; font-style: italic\">True</span>, <span style=\"color: #008000; text-decoration-color: #008000\">'metadata'</span>: <span style=\"font-weight: bold\">{}}</span>,\n",
       "            <span style=\"font-weight: bold\">{</span><span style=\"color: #008000; text-decoration-color: #008000\">'name'</span>: <span style=\"color: #008000; text-decoration-color: #008000\">'a_str'</span>, <span style=\"color: #008000; text-decoration-color: #008000\">'type'</span>: <span style=\"color: #008000; text-decoration-color: #008000\">'string'</span>, <span style=\"color: #008000; text-decoration-color: #008000\">'nullable'</span>: <span style=\"color: #00ff00; text-decoration-color: #00ff00; font-style: italic\">True</span>, <span style=\"color: #008000; text-decoration-color: #008000\">'metadata'</span>: <span style=\"font-weight: bold\">{}}</span>\n",
       "        <span style=\"font-weight: bold\">]</span>\n",
       "    <span style=\"font-weight: bold\">}</span>\n",
       "<span style=\"font-weight: bold\">}</span>\n",
       "</pre>\n"
      ],
      "text/plain": [
       "\u001b[1m{\u001b[0m\n",
       "    \u001b[32m'a_int'\u001b[0m: \u001b[32m'bigint'\u001b[0m,\n",
       "    \u001b[32m'a_float'\u001b[0m: \u001b[32m'float'\u001b[0m,\n",
       "    \u001b[32m'a_str'\u001b[0m: \u001b[32m'string'\u001b[0m,\n",
       "    \u001b[32m'a_binary'\u001b[0m: \u001b[32m'binary'\u001b[0m,\n",
       "    \u001b[32m'a_bool'\u001b[0m: \u001b[32m'boolean'\u001b[0m,\n",
       "    \u001b[32m'a_null'\u001b[0m: \u001b[32m'null'\u001b[0m,\n",
       "    \u001b[32m'a_int_set'\u001b[0m: \u001b[1m{\u001b[0m\u001b[32m'type'\u001b[0m: \u001b[32m'array'\u001b[0m, \u001b[32m'elementType'\u001b[0m: \u001b[32m'bigint'\u001b[0m\u001b[1m}\u001b[0m,\n",
       "    \u001b[32m'a_str_list'\u001b[0m: \u001b[1m{\u001b[0m\u001b[32m'type'\u001b[0m: \u001b[32m'array'\u001b[0m, \u001b[32m'elementType'\u001b[0m: \u001b[32m'string'\u001b[0m, \u001b[32m'containsNull'\u001b[0m: \u001b[3;92mTrue\u001b[0m\u001b[1m}\u001b[0m,\n",
       "    \u001b[32m'a_struct_list'\u001b[0m: \u001b[1m{\u001b[0m\n",
       "        \u001b[32m'type'\u001b[0m: \u001b[32m'array'\u001b[0m,\n",
       "        \u001b[32m'elementType'\u001b[0m: \u001b[1m{\u001b[0m\n",
       "            \u001b[32m'type'\u001b[0m: \u001b[32m'struct'\u001b[0m,\n",
       "            \u001b[32m'fields'\u001b[0m: \u001b[1m[\u001b[0m\n",
       "                \u001b[1m{\u001b[0m\u001b[32m'name'\u001b[0m: \u001b[32m'a_int'\u001b[0m, \u001b[32m'type'\u001b[0m: \u001b[32m'bigint'\u001b[0m, \u001b[32m'nullable'\u001b[0m: \u001b[3;92mTrue\u001b[0m, \u001b[32m'metadata'\u001b[0m: \u001b[1m{\u001b[0m\u001b[1m}\u001b[0m\u001b[1m}\u001b[0m,\n",
       "                \u001b[1m{\u001b[0m\u001b[32m'name'\u001b[0m: \u001b[32m'a_str'\u001b[0m, \u001b[32m'type'\u001b[0m: \u001b[32m'string'\u001b[0m, \u001b[32m'nullable'\u001b[0m: \u001b[3;92mTrue\u001b[0m, \u001b[32m'metadata'\u001b[0m: \u001b[1m{\u001b[0m\u001b[1m}\u001b[0m\u001b[1m}\u001b[0m\n",
       "            \u001b[1m]\u001b[0m\n",
       "        \u001b[1m}\u001b[0m,\n",
       "        \u001b[32m'containsNull'\u001b[0m: \u001b[3;92mTrue\u001b[0m\n",
       "    \u001b[1m}\u001b[0m,\n",
       "    \u001b[32m'a_struct'\u001b[0m: \u001b[1m{\u001b[0m\n",
       "        \u001b[32m'type'\u001b[0m: \u001b[32m'struct'\u001b[0m,\n",
       "        \u001b[32m'fields'\u001b[0m: \u001b[1m[\u001b[0m\n",
       "            \u001b[1m{\u001b[0m\u001b[32m'name'\u001b[0m: \u001b[32m'a_int'\u001b[0m, \u001b[32m'type'\u001b[0m: \u001b[32m'bigint'\u001b[0m, \u001b[32m'nullable'\u001b[0m: \u001b[3;92mTrue\u001b[0m, \u001b[32m'metadata'\u001b[0m: \u001b[1m{\u001b[0m\u001b[1m}\u001b[0m\u001b[1m}\u001b[0m,\n",
       "            \u001b[1m{\u001b[0m\u001b[32m'name'\u001b[0m: \u001b[32m'a_str'\u001b[0m, \u001b[32m'type'\u001b[0m: \u001b[32m'string'\u001b[0m, \u001b[32m'nullable'\u001b[0m: \u001b[3;92mTrue\u001b[0m, \u001b[32m'metadata'\u001b[0m: \u001b[1m{\u001b[0m\u001b[1m}\u001b[0m\u001b[1m}\u001b[0m\n",
       "        \u001b[1m]\u001b[0m\n",
       "    \u001b[1m}\u001b[0m\n",
       "\u001b[1m}\u001b[0m\n"
      ]
     },
     "metadata": {},
     "output_type": "display_data"
    }
   ],
   "source": [
    "glue_schema = {\n",
    "    k: v.to_spark_string() for k, v in simple_schema.items()\n",
    "}\n",
    "rprint(glue_schema)"
   ]
  },
  {
   "cell_type": "code",
   "execution_count": 8,
   "id": "10afd318a084343e",
   "metadata": {
    "ExecuteTime": {
     "end_time": "2024-09-02T03:23:42.307041Z",
     "start_time": "2024-09-02T03:23:42.303300Z"
    },
    "collapsed": false,
    "jupyter": {
     "outputs_hidden": false
    }
   },
   "outputs": [
    {
     "data": {
      "text/html": [
       "<pre style=\"white-space:pre;overflow-x:auto;line-height:normal;font-family:Menlo,'DejaVu Sans Mono',consolas,'Courier New',monospace\"><span style=\"font-weight: bold\">{</span>\n",
       "    <span style=\"color: #008000; text-decoration-color: #008000\">'a_int'</span>: <span style=\"color: #800080; text-decoration-color: #800080; font-weight: bold\">Struct</span><span style=\"font-weight: bold\">({</span><span style=\"color: #008000; text-decoration-color: #008000\">'N'</span>: String<span style=\"font-weight: bold\">})</span>,\n",
       "    <span style=\"color: #008000; text-decoration-color: #008000\">'a_float'</span>: <span style=\"color: #800080; text-decoration-color: #800080; font-weight: bold\">Struct</span><span style=\"font-weight: bold\">({</span><span style=\"color: #008000; text-decoration-color: #008000\">'N'</span>: String<span style=\"font-weight: bold\">})</span>,\n",
       "    <span style=\"color: #008000; text-decoration-color: #008000\">'a_str'</span>: <span style=\"color: #800080; text-decoration-color: #800080; font-weight: bold\">Struct</span><span style=\"font-weight: bold\">({</span><span style=\"color: #008000; text-decoration-color: #008000\">'S'</span>: String<span style=\"font-weight: bold\">})</span>,\n",
       "    <span style=\"color: #008000; text-decoration-color: #008000\">'a_binary'</span>: <span style=\"color: #800080; text-decoration-color: #800080; font-weight: bold\">Struct</span><span style=\"font-weight: bold\">({</span><span style=\"color: #008000; text-decoration-color: #008000\">'B'</span>: String<span style=\"font-weight: bold\">})</span>,\n",
       "    <span style=\"color: #008000; text-decoration-color: #008000\">'a_bool'</span>: <span style=\"color: #800080; text-decoration-color: #800080; font-weight: bold\">Struct</span><span style=\"font-weight: bold\">({</span><span style=\"color: #008000; text-decoration-color: #008000\">'BOOL'</span>: Boolean<span style=\"font-weight: bold\">})</span>,\n",
       "    <span style=\"color: #008000; text-decoration-color: #008000\">'a_null'</span>: <span style=\"color: #800080; text-decoration-color: #800080; font-weight: bold\">Struct</span><span style=\"font-weight: bold\">({</span><span style=\"color: #008000; text-decoration-color: #008000\">'NULL'</span>: Boolean<span style=\"font-weight: bold\">})</span>,\n",
       "    <span style=\"color: #008000; text-decoration-color: #008000\">'a_int_set'</span>: <span style=\"color: #800080; text-decoration-color: #800080; font-weight: bold\">Struct</span><span style=\"font-weight: bold\">({</span><span style=\"color: #008000; text-decoration-color: #008000\">'NS'</span>: <span style=\"color: #800080; text-decoration-color: #800080; font-weight: bold\">List</span><span style=\"font-weight: bold\">(</span>String<span style=\"font-weight: bold\">)})</span>,\n",
       "    <span style=\"color: #008000; text-decoration-color: #008000\">'a_str_list'</span>: <span style=\"color: #800080; text-decoration-color: #800080; font-weight: bold\">Struct</span><span style=\"font-weight: bold\">({</span><span style=\"color: #008000; text-decoration-color: #008000\">'L'</span>: <span style=\"color: #800080; text-decoration-color: #800080; font-weight: bold\">List</span><span style=\"font-weight: bold\">(</span><span style=\"color: #800080; text-decoration-color: #800080; font-weight: bold\">Struct</span><span style=\"font-weight: bold\">({</span><span style=\"color: #008000; text-decoration-color: #008000\">'S'</span>: String<span style=\"font-weight: bold\">}))})</span>,\n",
       "    <span style=\"color: #008000; text-decoration-color: #008000\">'a_struct_list'</span>: <span style=\"color: #800080; text-decoration-color: #800080; font-weight: bold\">Struct</span><span style=\"font-weight: bold\">({</span><span style=\"color: #008000; text-decoration-color: #008000\">'L'</span>: <span style=\"color: #800080; text-decoration-color: #800080; font-weight: bold\">List</span><span style=\"font-weight: bold\">(</span><span style=\"color: #800080; text-decoration-color: #800080; font-weight: bold\">Struct</span><span style=\"font-weight: bold\">({</span><span style=\"color: #008000; text-decoration-color: #008000\">'M'</span>: <span style=\"color: #800080; text-decoration-color: #800080; font-weight: bold\">Struct</span><span style=\"font-weight: bold\">({</span><span style=\"color: #008000; text-decoration-color: #008000\">'a_int'</span>: <span style=\"color: #800080; text-decoration-color: #800080; font-weight: bold\">Struct</span><span style=\"font-weight: bold\">({</span><span style=\"color: #008000; text-decoration-color: #008000\">'N'</span>: String<span style=\"font-weight: bold\">})</span>, <span style=\"color: #008000; text-decoration-color: #008000\">'a_str'</span>: <span style=\"color: #800080; text-decoration-color: #800080; font-weight: bold\">Struct</span><span style=\"font-weight: bold\">({</span><span style=\"color: #008000; text-decoration-color: #008000\">'S'</span>: \n",
       "String<span style=\"font-weight: bold\">})})}))})</span>,\n",
       "    <span style=\"color: #008000; text-decoration-color: #008000\">'a_struct'</span>: <span style=\"color: #800080; text-decoration-color: #800080; font-weight: bold\">Struct</span><span style=\"font-weight: bold\">({</span><span style=\"color: #008000; text-decoration-color: #008000\">'M'</span>: <span style=\"color: #800080; text-decoration-color: #800080; font-weight: bold\">Struct</span><span style=\"font-weight: bold\">({</span><span style=\"color: #008000; text-decoration-color: #008000\">'a_int'</span>: <span style=\"color: #800080; text-decoration-color: #800080; font-weight: bold\">Struct</span><span style=\"font-weight: bold\">({</span><span style=\"color: #008000; text-decoration-color: #008000\">'N'</span>: String<span style=\"font-weight: bold\">})</span>, <span style=\"color: #008000; text-decoration-color: #008000\">'a_str'</span>: <span style=\"color: #800080; text-decoration-color: #800080; font-weight: bold\">Struct</span><span style=\"font-weight: bold\">({</span><span style=\"color: #008000; text-decoration-color: #008000\">'S'</span>: String<span style=\"font-weight: bold\">})})})</span>\n",
       "<span style=\"font-weight: bold\">}</span>\n",
       "</pre>\n"
      ],
      "text/plain": [
       "\u001b[1m{\u001b[0m\n",
       "    \u001b[32m'a_int'\u001b[0m: \u001b[1;35mStruct\u001b[0m\u001b[1m(\u001b[0m\u001b[1m{\u001b[0m\u001b[32m'N'\u001b[0m: String\u001b[1m}\u001b[0m\u001b[1m)\u001b[0m,\n",
       "    \u001b[32m'a_float'\u001b[0m: \u001b[1;35mStruct\u001b[0m\u001b[1m(\u001b[0m\u001b[1m{\u001b[0m\u001b[32m'N'\u001b[0m: String\u001b[1m}\u001b[0m\u001b[1m)\u001b[0m,\n",
       "    \u001b[32m'a_str'\u001b[0m: \u001b[1;35mStruct\u001b[0m\u001b[1m(\u001b[0m\u001b[1m{\u001b[0m\u001b[32m'S'\u001b[0m: String\u001b[1m}\u001b[0m\u001b[1m)\u001b[0m,\n",
       "    \u001b[32m'a_binary'\u001b[0m: \u001b[1;35mStruct\u001b[0m\u001b[1m(\u001b[0m\u001b[1m{\u001b[0m\u001b[32m'B'\u001b[0m: String\u001b[1m}\u001b[0m\u001b[1m)\u001b[0m,\n",
       "    \u001b[32m'a_bool'\u001b[0m: \u001b[1;35mStruct\u001b[0m\u001b[1m(\u001b[0m\u001b[1m{\u001b[0m\u001b[32m'BOOL'\u001b[0m: Boolean\u001b[1m}\u001b[0m\u001b[1m)\u001b[0m,\n",
       "    \u001b[32m'a_null'\u001b[0m: \u001b[1;35mStruct\u001b[0m\u001b[1m(\u001b[0m\u001b[1m{\u001b[0m\u001b[32m'NULL'\u001b[0m: Boolean\u001b[1m}\u001b[0m\u001b[1m)\u001b[0m,\n",
       "    \u001b[32m'a_int_set'\u001b[0m: \u001b[1;35mStruct\u001b[0m\u001b[1m(\u001b[0m\u001b[1m{\u001b[0m\u001b[32m'NS'\u001b[0m: \u001b[1;35mList\u001b[0m\u001b[1m(\u001b[0mString\u001b[1m)\u001b[0m\u001b[1m}\u001b[0m\u001b[1m)\u001b[0m,\n",
       "    \u001b[32m'a_str_list'\u001b[0m: \u001b[1;35mStruct\u001b[0m\u001b[1m(\u001b[0m\u001b[1m{\u001b[0m\u001b[32m'L'\u001b[0m: \u001b[1;35mList\u001b[0m\u001b[1m(\u001b[0m\u001b[1;35mStruct\u001b[0m\u001b[1m(\u001b[0m\u001b[1m{\u001b[0m\u001b[32m'S'\u001b[0m: String\u001b[1m}\u001b[0m\u001b[1m)\u001b[0m\u001b[1m)\u001b[0m\u001b[1m}\u001b[0m\u001b[1m)\u001b[0m,\n",
       "    \u001b[32m'a_struct_list'\u001b[0m: \u001b[1;35mStruct\u001b[0m\u001b[1m(\u001b[0m\u001b[1m{\u001b[0m\u001b[32m'L'\u001b[0m: \u001b[1;35mList\u001b[0m\u001b[1m(\u001b[0m\u001b[1;35mStruct\u001b[0m\u001b[1m(\u001b[0m\u001b[1m{\u001b[0m\u001b[32m'M'\u001b[0m: \u001b[1;35mStruct\u001b[0m\u001b[1m(\u001b[0m\u001b[1m{\u001b[0m\u001b[32m'a_int'\u001b[0m: \u001b[1;35mStruct\u001b[0m\u001b[1m(\u001b[0m\u001b[1m{\u001b[0m\u001b[32m'N'\u001b[0m: String\u001b[1m}\u001b[0m\u001b[1m)\u001b[0m, \u001b[32m'a_str'\u001b[0m: \u001b[1;35mStruct\u001b[0m\u001b[1m(\u001b[0m\u001b[1m{\u001b[0m\u001b[32m'S'\u001b[0m: \n",
       "String\u001b[1m}\u001b[0m\u001b[1m)\u001b[0m\u001b[1m}\u001b[0m\u001b[1m)\u001b[0m\u001b[1m}\u001b[0m\u001b[1m)\u001b[0m\u001b[1m)\u001b[0m\u001b[1m}\u001b[0m\u001b[1m)\u001b[0m,\n",
       "    \u001b[32m'a_struct'\u001b[0m: \u001b[1;35mStruct\u001b[0m\u001b[1m(\u001b[0m\u001b[1m{\u001b[0m\u001b[32m'M'\u001b[0m: \u001b[1;35mStruct\u001b[0m\u001b[1m(\u001b[0m\u001b[1m{\u001b[0m\u001b[32m'a_int'\u001b[0m: \u001b[1;35mStruct\u001b[0m\u001b[1m(\u001b[0m\u001b[1m{\u001b[0m\u001b[32m'N'\u001b[0m: String\u001b[1m}\u001b[0m\u001b[1m)\u001b[0m, \u001b[32m'a_str'\u001b[0m: \u001b[1;35mStruct\u001b[0m\u001b[1m(\u001b[0m\u001b[1m{\u001b[0m\u001b[32m'S'\u001b[0m: String\u001b[1m}\u001b[0m\u001b[1m)\u001b[0m\u001b[1m}\u001b[0m\u001b[1m)\u001b[0m\u001b[1m}\u001b[0m\u001b[1m)\u001b[0m\n",
       "\u001b[1m}\u001b[0m\n"
      ]
     },
     "metadata": {},
     "output_type": "display_data"
    }
   ],
   "source": [
    "dynamodb_json_polars_schema = {\n",
    "    k: v.to_dynamodb_json_polars() for k, v in simple_schema.items()\n",
    "}\n",
    "rprint(dynamodb_json_polars_schema)"
   ]
  },
  {
   "cell_type": "code",
   "execution_count": null,
   "id": "a479dbc64c9e7c36",
   "metadata": {
    "collapsed": false,
    "jupyter": {
     "outputs_hidden": false
    }
   },
   "outputs": [],
   "source": []
  }
 ],
 "metadata": {
  "kernelspec": {
   "display_name": "Python 3 (ipykernel)",
   "language": "python",
   "name": "python3"
  },
  "language_info": {
   "codemirror_mode": {
    "name": "ipython",
    "version": 3
   },
   "file_extension": ".py",
   "mimetype": "text/x-python",
   "name": "python",
   "nbconvert_exporter": "python",
   "pygments_lexer": "ipython3",
   "version": "3.10.10"
  }
 },
 "nbformat": 4,
 "nbformat_minor": 5
}
